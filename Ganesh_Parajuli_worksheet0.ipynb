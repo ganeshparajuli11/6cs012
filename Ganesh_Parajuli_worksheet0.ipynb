{
  "nbformat": 4,
  "nbformat_minor": 0,
  "metadata": {
    "colab": {
      "provenance": []
    },
    "kernelspec": {
      "name": "python3",
      "display_name": "Python 3"
    },
    "language_info": {
      "name": "python"
    }
  },
  "cells": [
    {
      "cell_type": "markdown",
      "source": [
        "Create a Python program that converts between different units of measurement.\n",
        "• The program should:\n",
        "1. Prompt the user to choose the type of conversion (e.g., length, weight, volume).\n",
        "2. Ask the user to input the value to be converted.\n",
        "3. Perform the conversion and display the result.\n",
        "4. Handle potential errors, such as invalid input or unsupported conversion types.\n",
        "• Requirements:\n",
        "1. Functions: Define at least one function to perform the conversion.\n",
        "2. Error Handling: Use try-except blocks to handle invalid input (e.g., non-numeric values).\n",
        "3. User Input: Prompt the user to select the conversion type and input the value.\n",
        "4. Docstrings: Include a docstring in your function to describe its purpose, parameters, and\n",
        "return value.\n",
        "• Conversion Options:\n",
        "1. Length:\n",
        "– Convert meters (m) to feet (ft).\n",
        "– Convert feet (ft) to meters (m).\n",
        "2. Weight:\n",
        "– Convert kilograms (kg) to pounds (lbs).\n",
        "– Convert pounds (lbs) to kilograms (kg).\n",
        "3. Volume:\n",
        "– Convert liters (L) to gallons (gal).\n",
        "– Convert gallons (gal) to liters (L)."
      ],
      "metadata": {
        "id": "5AK2YcxJCS_x"
      }
    },
    {
      "cell_type": "code",
      "source": [
        "def convert_units(conversion, value):\n",
        "    \"\"\"Convert units based on user choice.\"\"\"\n",
        "    if conversion == \"m_to_ft\":\n",
        "        return value * 3.28084\n",
        "    elif conversion == \"ft_to_m\":\n",
        "        return value * 0.3048\n",
        "    elif conversion == \"kg_to_lbs\":\n",
        "        return value * 2.20462\n",
        "    elif conversion == \"lbs_to_kg\":\n",
        "        return value * 0.453592\n",
        "    elif conversion == \"l_to_gal\":\n",
        "        return value * 0.264172\n",
        "    elif conversion == \"gal_to_l\":\n",
        "        return value * 3.78541\n",
        "    else:\n",
        "        return None  # Invalid choice\n",
        "\n",
        "print(\"Unit Converter\")\n",
        "print(\"1. Meters to Feet\\n2. Feet to Meters\\n3. Kilograms to Pounds\")\n",
        "print(\"4. Pounds to Kilograms\\n5. Liters to Gallons\\n6. Gallons to Liters\")\n",
        "\n",
        "try:\n",
        "    choice = int(input(\"Choose a conversion (1-6): \"))\n",
        "    value = float(input(\"Enter value to convert: \"))\n",
        "\n",
        "    conversions = {\n",
        "        1: \"m_to_ft\",\n",
        "        2: \"ft_to_m\",\n",
        "        3: \"kg_to_lbs\",\n",
        "        4: \"lbs_to_kg\",\n",
        "        5: \"l_to_gal\",\n",
        "        6: \"gal_to_l\"\n",
        "    }\n",
        "\n",
        "    if choice in conversions:\n",
        "        result = convert_units(conversions[choice], value)\n",
        "        print(f\"Converted value: {result:.2f}\")\n",
        "    else:\n",
        "        print(\"Invalid choice.\")\n",
        "\n",
        "except ValueError:\n",
        "    print(\"Invalid input. Please enter a number.\")\n"
      ],
      "metadata": {
        "colab": {
          "base_uri": "https://localhost:8080/"
        },
        "id": "Xbgg7wylKgz3",
        "outputId": "5d8a9942-3c2c-436a-8cdd-d8603f7759e7"
      },
      "execution_count": 1,
      "outputs": [
        {
          "output_type": "stream",
          "name": "stdout",
          "text": [
            "Unit Converter\n",
            "1. Meters to Feet\n",
            "2. Feet to Meters\n",
            "3. Kilograms to Pounds\n",
            "4. Pounds to Kilograms\n",
            "5. Liters to Gallons\n",
            "6. Gallons to Liters\n",
            "Choose a conversion (1-6): 4\n",
            "Enter value to convert: 55\n",
            "Converted value: 24.95\n"
          ]
        }
      ]
    },
    {
      "cell_type": "markdown",
      "source": [
        "Task - 2:\n",
        "Create a Python program that performs various mathematical operations on a list of numbers.\n",
        "• The Program should:\n",
        "1. Prompt the user to choose an operation (e.g., find the sum, average, maximum, or minimum\n",
        "of the numbers).\n",
        "2. Ask the user to input a list of numbers (separated by spaces).\n",
        "\n",
        "3. Perform the selected operation and display the result.\n",
        "4. Handle potential errors, such as invalid input or empty lists.\n",
        "\n",
        "• Requirements:\n",
        "\n",
        "1. Functions: Define at least one function for each operation (sum, average, maximum, mini-\n",
        "mum).\n",
        "\n",
        "2. Error Handling: Use try-except blocks to handle invalid input (e.g., non-numeric values or\n",
        "empty lists).\n",
        "3. User Input: Prompt the user to select the operation and input the list of numbers.\n",
        "4. Docstrings: Include a docstring in each function to describe its purpose, parameters, and\n",
        "return value."
      ],
      "metadata": {
        "id": "WUkf49ELNBRn"
      }
    },
    {
      "cell_type": "code",
      "source": [
        "def sum_list(numbers):\n",
        "\n",
        "    return sum(numbers)\n",
        "\n",
        "def average_list(numbers):\n",
        "\n",
        "    return sum(numbers) / len(numbers) if numbers else 0\n",
        "\n",
        "def max_list(numbers):\n",
        "\n",
        "    return max(numbers) if numbers else None\n",
        "\n",
        "def min_list(numbers):\n",
        "\n",
        "    return min(numbers) if numbers else None\n",
        "\n",
        "print(\"Mathematical Operations on a List\")\n",
        "print(\"1. Sum\\n2. Average\\n3. Maximum\\n4. Minimum\")\n",
        "\n",
        "try:\n",
        "    choice = input(\"Choose an operation (1-4): \")\n",
        "    numbers = list(map(float, input(\"Enter numbers separated by spaces: \").split()))\n",
        "\n",
        "    if not numbers:\n",
        "        print(\"Error: The list cannot be empty.\")\n",
        "    elif choice == \"1\":\n",
        "        print(\"Sum:\", sum_list(numbers))\n",
        "    elif choice == \"2\":\n",
        "        print(\"Average:\", average_list(numbers))\n",
        "    elif choice == \"3\":\n",
        "        print(\"Maximum:\", max_list(numbers))\n",
        "    elif choice == \"4\":\n",
        "        print(\"Minimum:\", min_list(numbers))\n",
        "    else:\n",
        "        print(\"Invalid choice. Please select a number between 1 and 4.\")\n",
        "except ValueError:\n",
        "    print(\"Invalid input. Please enter numeric values.\")\n"
      ],
      "metadata": {
        "colab": {
          "base_uri": "https://localhost:8080/"
        },
        "id": "YiNFFlCuM4yf",
        "outputId": "c2f507b6-5d53-4e13-f6fa-3de0af94820e"
      },
      "execution_count": null,
      "outputs": [
        {
          "output_type": "stream",
          "name": "stdout",
          "text": [
            "Mathematical Operations on a List\n",
            "1. Sum\n",
            "2. Average\n",
            "3. Maximum\n",
            "4. Minimum\n",
            "Choose an operation (1-4): 2\n",
            "Enter numbers separated by spaces: 1 2 3c\n",
            "Invalid input. Please enter numeric values.\n"
          ]
        }
      ]
    },
    {
      "cell_type": "markdown",
      "source": [
        "4.2 Exercise on List Manipulation:\n",
        "\n",
        "1. Extract Every Other Element:\n",
        "Write a Python function that extracts every other element from a list, starting from the first element.\n",
        "\n",
        "• Requirements:\n",
        "– Define a function extract every other(lst) that takes a list lst as input and returns a\n",
        "new list containing every other element from the original list.\n",
        "– Example: For the input [1, 2, 3, 4, 5, 6], the output should be [1, 3, 5]."
      ],
      "metadata": {
        "id": "zxITqs0RULZp"
      }
    },
    {
      "cell_type": "code",
      "source": [
        "def extract_every_other(lst):\n",
        "    \"\"\"Returns a new list containing every other element from the input list.\"\"\"\n",
        "    return lst[::2]\n",
        "\n",
        "print(\"Welcome to array handler\")\n",
        "try:\n",
        "    numbers = list(map(float, input(\"Enter the numbers here by adding space to each: \").split()))\n",
        "    if not numbers:\n",
        "        print(\"There are no numbers, please add numbers.\")\n",
        "    else:\n",
        "        result = extract_every_other(numbers)\n",
        "        print(\"Extracted list:\", result)\n",
        "except ValueError:\n",
        "    print(\"Invalid input, please enter numeric values separated by spaces.\")\n"
      ],
      "metadata": {
        "colab": {
          "base_uri": "https://localhost:8080/"
        },
        "id": "7WzTsxL1UzlR",
        "outputId": "35f4355e-96b4-439f-ddff-891ea88b60ea"
      },
      "execution_count": null,
      "outputs": [
        {
          "output_type": "stream",
          "name": "stdout",
          "text": [
            "Welcome to array handler\n",
            "Enter the numbers here by adding space to each1 2 3 4 5 5\n",
            "number recieved here: [1.0, 2.0, 3.0, 4.0, 5.0, 5.0]\n"
          ]
        }
      ]
    },
    {
      "cell_type": "markdown",
      "source": [
        "**2. Slice a Sublist:**\n",
        "\n",
        "Write a Python function that returns a sublist from a given list, starting from a specified index and\n",
        "ending at another specified index.\n",
        "• Requirements:\n",
        "– Define a function get sublist(lst, start, end) that takes a list lst, a starting index\n",
        "start, and an ending index end as input and returns the sublist from start to end (inclusive).\n",
        "– Example: For the input [1, 2, 3, 4, 5, 6] with start=2 and end=4, the output should\n",
        "be [3, 4, 5]."
      ],
      "metadata": {
        "id": "tp7o7RWBezNN"
      }
    },
    {
      "cell_type": "code",
      "source": [
        "def get_sublist(lst, start, end):\n",
        "    return lst[start:end+1]\n",
        "\n",
        "\n",
        "print(get_sublist([1, 2, 3, 4, 5, 6], 2, 4))\n"
      ],
      "metadata": {
        "colab": {
          "base_uri": "https://localhost:8080/"
        },
        "id": "DEZKMTdped5F",
        "outputId": "581b50cb-ee96-4d3a-89eb-573ff8bd6101"
      },
      "execution_count": 2,
      "outputs": [
        {
          "output_type": "stream",
          "name": "stdout",
          "text": [
            "[3, 4, 5]\n"
          ]
        }
      ]
    },
    {
      "cell_type": "markdown",
      "source": [
        "**3. Reverse a List Using Slicing:**\n",
        "\n",
        "Write a Python function that reverses a list using slicing.\n",
        "\n",
        "• Requirements:\n",
        "\n",
        "– Define a function reverse list(lst) that takes a list lst and returns a reversed list using slicing.\n",
        "\n",
        "– Example: For the input [1, 2, 3, 4, 5], the output should be [5, 4, 3, 2, 1]."
      ],
      "metadata": {
        "id": "KatUE466fEDu"
      }
    },
    {
      "cell_type": "code",
      "source": [
        "def reverse_list(lst):\n",
        "    return lst[::-1]\n",
        "\n",
        "\n",
        "print(reverse_list([1, 2, 3, 4, 5]))"
      ],
      "metadata": {
        "colab": {
          "base_uri": "https://localhost:8080/"
        },
        "id": "eMotHhRpfL-d",
        "outputId": "fae0b56c-8c4a-419d-b595-cb8e9505b9bc"
      },
      "execution_count": 3,
      "outputs": [
        {
          "output_type": "stream",
          "name": "stdout",
          "text": [
            "[5, 4, 3, 2, 1]\n"
          ]
        }
      ]
    },
    {
      "cell_type": "markdown",
      "source": [
        "**4. Remove the First and Last Elements:**\n",
        "\n",
        "Write a Python function that removes the first and last elements of a list and returns the resulting\n",
        "sublist.\n",
        "\n",
        "• Requirements:\n",
        "\n",
        "– Define a function remove first last(lst) that takes a list lst and returns a sublist without the first and last elements using slicing.\n",
        "\n",
        "– Example: For the input [1, 2, 3, 4, 5], the output should be [2, 3, 4]."
      ],
      "metadata": {
        "id": "fk2ueWK5fRM1"
      }
    },
    {
      "cell_type": "code",
      "source": [
        "def remove_first_last(lst):\n",
        "    return lst[1:-1]\n",
        "\n",
        "\n",
        "print(remove_first_last([1, 2, 3, 4, 5]))\n"
      ],
      "metadata": {
        "colab": {
          "base_uri": "https://localhost:8080/"
        },
        "id": "4uk7AALEfWFW",
        "outputId": "7a38d367-4285-410c-d403-11a5bb5b2361"
      },
      "execution_count": 4,
      "outputs": [
        {
          "output_type": "stream",
          "name": "stdout",
          "text": [
            "[2, 3, 4]\n"
          ]
        }
      ]
    },
    {
      "cell_type": "markdown",
      "source": [
        "**5. Get the First n Elements:**\n",
        "Write a Python function that extracts the first n elements from a list.\n",
        "\n",
        "• Requirements:\n",
        "– Define a function get first n(lst, n) that takes a list lst and an integer n as input and\n",
        "returns the first n elements of the list using slicing.\n",
        "– Example: For the input [1, 2, 3, 4, 5] with n=3, the output should be [1, 2, 3].\n",
        "\n",
        "\n",
        "**6. Extract Elements from the End:**\n",
        "\n",
        "Write a Python function that extracts the last n elements of a list using slicing.\n",
        "\n",
        "• Requirements:\n",
        "\n",
        "– Define a function get last n(lst, n) that takes a list lst and an integer n as input and returns the last n elements of the list.\n",
        "\n",
        "– Example: For the input [1, 2, 3, 4, 5] with n=2, the output should be [4, 5].\n",
        "\n",
        "\n",
        "**7. Extract Elements in Reverse Order:**\n",
        "\n",
        "Write a Python function that extracts a list of elements in reverse order starting from the second-to-last element and skipping one element in between.\n",
        "\n",
        "• Requirements:\n",
        "\n",
        "– Define a function reverse skip(lst) that takes a list lst and returns a new list containing\n",
        "every second element starting from the second-to-last, moving backward.\n",
        "– Example: For the input [1, 2, 3, 4, 5, 6], the output should be [5, 3, 1]."
      ],
      "metadata": {
        "id": "C6FjPXYBfbvV"
      }
    },
    {
      "cell_type": "code",
      "source": [
        "def get_first_n(lst, n):\n",
        "    return lst[:n]\n",
        "\n",
        "\n",
        "print(get_first_n([1, 2, 3, 4, 5], 3))\n",
        "\n",
        "\n",
        "\n",
        "def get_last_n(lst, n):\n",
        "    return lst[-n:]\n",
        "\n",
        "\n",
        "print(get_last_n([1, 2, 3, 4, 5], 2))\n",
        "\n",
        "\n",
        "\n",
        "def reverse_skip(lst):\n",
        "    return lst[-2::-2]\n",
        "\n",
        "\n",
        "print(reverse_skip([1, 2, 3, 4, 5, 6]))\n",
        "\n",
        "\n",
        "\n"
      ],
      "metadata": {
        "colab": {
          "base_uri": "https://localhost:8080/"
        },
        "id": "fqtNG_VvfbK1",
        "outputId": "6f585703-94b5-4402-dcfc-2b5893e00092"
      },
      "execution_count": 6,
      "outputs": [
        {
          "output_type": "stream",
          "name": "stdout",
          "text": [
            "[1, 2, 3]\n",
            "[4, 5]\n",
            "[5, 3, 1]\n"
          ]
        }
      ]
    },
    {
      "cell_type": "markdown",
      "source": [
        "**4.3 Exercise on Nested List:**\n",
        "\n",
        "**1. Flatten a Nested List:**\n",
        "\n",
        "Write a Python function that takes a nested list and flattens it into a single list, where all the elements\n",
        "are in a single dimension.\n",
        "\n",
        "**• Requirements:**\n",
        "– Define a function flatten(lst) that takes a nested list lst and returns a flattened version of the list.\n",
        "\n",
        "– Example: For the input [[1, 2], [3, 4], [5]], the output should be [1, 2, 3, 4, 5].\n",
        "\n",
        "**2. Accessing Nested List Elements:**\n",
        "\n",
        "Write a Python function that extracts a specific element from a nested list given its indices.\n",
        "\n",
        "**• Requirements:**\n",
        "– Define a function access nested element(lst, indices) that takes a nested list lst and a list of indices indices, and returns the element at that position.\n",
        "– Example: For the input lst = [[1, 2, 3], [4, 5, 6], [7, 8, 9]] with indices = [1,2], the output should be 6.\n",
        "\n",
        "**3. Sum of All Elements in a Nested List:**\n",
        "Write a Python function that calculates the sum of all the numbers in a nested list (regardless of depth).\n",
        "\n",
        "**• Requirements:**\n",
        "– Define a function sum nested(lst) that takes a nested list lst and returns the sum of all\n",
        "the elements.\n",
        "– Example: For the input [[1, 2], [3, [4, 5]], 6], the output should be 21.\n",
        "\n",
        "4. Remove Specific Element from a Nested List:\n",
        "Write a Python function that removes all occurrences of a specific element from a nested list.\n",
        "\n",
        "**• Requirements:**\n",
        "– Define a function remove element(lst, elem) that removes elem from lst and returns the\n",
        "modified list.\n",
        "– Example: For the input lst = [[1, 2], [3, 2], [4, 5]] and elem = 2, the output should\n",
        "be [[1], [3], [4, 5]].\n",
        "\n",
        "5. Find the Maximum Element in a Nested List:\n",
        "Write a Python function that finds the maximum element in a nested list (regardless of depth).\n",
        "\n",
        "• Requirements:\n",
        "– Define a function find max(lst) that takes a nested list lst and returns the maximum element.\n",
        "\n",
        "– Example: For the input [[1, 2], [3, [4, 5]], 6], the output should be 6.\n",
        "\n",
        "\n",
        "\n",
        "\n",
        "\n",
        "6. Count Occurrences of an Element in a Nested List:\n",
        "Write a Python function that counts how many times a specific element appears in a nested list.\n",
        "\n",
        "• Requirements:\n",
        "\n",
        "– Define a function count occurrences(lst, elem) that counts the occurrences of elem in\n",
        "the nested list lst.\n",
        "\n",
        "– Example: For the input lst = [[1, 2], [2, 3], [2, 4]] and elem = 2, the output should\n",
        "be 3.\n",
        "\n",
        "\n",
        "7. Flatten a List of Lists of Lists:\n",
        "\n",
        "Write a Python function that flattens a list of lists of lists into a single list, regardless of the depth.\n",
        "\n",
        "• Requirements:\n",
        "– Define a function deep flatten(lst) that takes a deeply nested list lst and returns a single flattened list.\n",
        "\n",
        "– Example: For the input [[[1, 2], [3, 4]], [[5, 6], [7, 8]]], the output should be\n",
        "[1, 2, 3, 4, 5, 6, 7, 8].\n",
        "\n",
        "8. Nested List Average:\n",
        "\n",
        "Write a Python function that calculates the average of all elements in a nested list.\n",
        "• Requirements:\n",
        "\n",
        "– Define a function average nested(lst) that takes a nested list lst and returns the average\n",
        "of all the elements.\n",
        "– Example: For the input [[1, 2], [3, 4], [5, 6]], the output should be 3.5."
      ],
      "metadata": {
        "id": "JiU3xxwQf1x2"
      }
    },
    {
      "cell_type": "code",
      "source": [
        "# 1\n",
        "def flatten(lst):\n",
        "    return [item for sublist in lst for item in sublist]\n",
        "\n",
        "print(flatten([[1, 2], [3, 4], [5]]))\n",
        "\n",
        "\n",
        "# 2\n",
        "def access_nested_element(lst, indices):\n",
        "    for index in indices:\n",
        "        lst = lst[index]\n",
        "    return lst\n",
        "\n",
        "nested_list = [[1, 2, 3], [4, 5, 6], [7, 8, 9]]\n",
        "print(access_nested_element(nested_list, [1, 2]))\n",
        "\n",
        "\n",
        "# 3\n",
        "def sum_nested(lst):\n",
        "    if isinstance(lst, int):\n",
        "        return lst\n",
        "    return sum(sum_nested(item) for item in lst)\n",
        "\n",
        "print(sum_nested([[1, 2], [3, [4, 5]], 6]))\n",
        "\n",
        "\n",
        "# 4\n",
        "def remove_element(lst, elem):\n",
        "    if isinstance(lst, list):\n",
        "        return [remove_element(item, elem) for item in lst if item != elem]\n",
        "    return lst\n",
        "\n",
        "print(remove_element([[1, 2], [3, 2], [4, 5]], 2))\n",
        "\n",
        "\n",
        "# 5\n",
        "def find_max(lst):\n",
        "    if isinstance(lst, int):\n",
        "        return lst\n",
        "    return max(find_max(item) for item in lst)\n",
        "\n",
        "print(find_max([[1, 2], [3, [4, 5]], 6]))\n",
        "\n",
        "\n",
        "# 6\n",
        "def count_occurrences(lst, elem):\n",
        "    if isinstance(lst, int):\n",
        "        return 1 if lst == elem else 0\n",
        "    return sum(count_occurrences(item, elem) for item in lst)\n",
        "\n",
        "print(count_occurrences([[1, 2], [2, 3], [2, 4]], 2))\n",
        "\n",
        "\n",
        "# 7\n",
        "def deep_flatten(lst):\n",
        "    if isinstance(lst, int):\n",
        "        return [lst]\n",
        "    return [item for sublist in lst for item in deep_flatten(sublist)]\n",
        "\n",
        "print(deep_flatten([[[1, 2], [3, 4]], [[5, 6], [7, 8]]]))\n",
        "\n",
        "\n",
        "# 8\n",
        "def average_nested(lst):\n",
        "    flat_list = deep_flatten(lst)\n",
        "    return sum(flat_list) / len(flat_list)\n",
        "\n",
        "print(average_nested([[1, 2], [3, 4], [5, 6]]))\n"
      ],
      "metadata": {
        "colab": {
          "base_uri": "https://localhost:8080/"
        },
        "id": "OTjcJdCNgf7X",
        "outputId": "020848e8-154b-4ed4-d484-1c984b0ede17"
      },
      "execution_count": 8,
      "outputs": [
        {
          "output_type": "stream",
          "name": "stdout",
          "text": [
            "[1, 2, 3, 4, 5]\n",
            "6\n",
            "21\n",
            "[[1], [3], [4, 5]]\n",
            "6\n",
            "3\n",
            "[1, 2, 3, 4, 5, 6, 7, 8]\n",
            "3.5\n"
          ]
        }
      ]
    },
    {
      "cell_type": "markdown",
      "source": [
        "**10 To - Do - NumPy**"
      ],
      "metadata": {
        "id": "u58AuFbYhLce"
      }
    },
    {
      "cell_type": "markdown",
      "source": [
        "10.1 Basic Vector and Matrix Operation with Numpy.\n",
        "Problem - 1: Array Creation:\n",
        "\n",
        "Complete the following Tasks:\n",
        "\n",
        "1. Initialize an empty array with size 2X2.\n",
        "2. Initialize an all one array with size 4X2.\n",
        "3. Return a new array of given shape and type, filled with fill value.{Hint: np.full}\n",
        "4. Return a new array of zeros with same shape and type as a given array.{Hint: np.zeros like}\n",
        "5. Return a new array of ones with same shape and type as a given array.{Hint: np.ones like}\n",
        "6. For an existing list new_list = [1,2,3,4] convert to an numpy array.{Hint: np.array()}"
      ],
      "metadata": {
        "id": "C-Gzi0AbhM0O"
      }
    },
    {
      "cell_type": "code",
      "source": [
        "import numpy as np\n",
        "\n",
        "# 1. Initialize an empty array with size 2x2\n",
        "empty_array = np.empty((2, 2))\n",
        "print(\"Empty Array:\\n\", empty_array)\n",
        "\n",
        "# 2. Initialize an all-one array with size 4x2\n",
        "ones_array = np.ones((4, 2))\n",
        "print(\"\\nAll-One Array:\\n\", ones_array)\n",
        "\n",
        "# 3. Return a new array of given shape and type, filled with fill value\n",
        "fill_array = np.full((3, 3), 7)  # Example: 3x3 array filled with 7\n",
        "print(\"\\nArray Filled with 7:\\n\", fill_array)\n",
        "\n",
        "# 4. Return a new array of zeros with the same shape and type as a given array\n",
        "reference_array = np.array([[1, 2, 3], [4, 5, 6]])  # Reference array\n",
        "zeros_like_array = np.zeros_like(reference_array)\n",
        "print(\"\\nZeros Like Reference Array:\\n\", zeros_like_array)\n",
        "\n",
        "# 5. Return a new array of ones with the same shape and type as a given array\n",
        "ones_like_array = np.ones_like(reference_array)\n",
        "print(\"\\nOnes Like Reference Array:\\n\", ones_like_array)\n",
        "\n",
        "# 6. Convert an existing list to a NumPy array\n",
        "new_list = [1, 2, 3, 4]\n",
        "numpy_array = np.array(new_list)\n",
        "print(\"\\nConverted NumPy Array:\\n\", numpy_array)\n"
      ],
      "metadata": {
        "colab": {
          "base_uri": "https://localhost:8080/"
        },
        "id": "vUBqLDhIhRRd",
        "outputId": "e72fa60f-23d6-4bc2-8b8a-d47d3836cfc8"
      },
      "execution_count": 9,
      "outputs": [
        {
          "output_type": "stream",
          "name": "stdout",
          "text": [
            "Empty Array:\n",
            " [[6.53154946e-310 0.00000000e+000]\n",
            " [6.53156590e-310 6.53156590e-310]]\n",
            "\n",
            "All-One Array:\n",
            " [[1. 1.]\n",
            " [1. 1.]\n",
            " [1. 1.]\n",
            " [1. 1.]]\n",
            "\n",
            "Array Filled with 7:\n",
            " [[7 7 7]\n",
            " [7 7 7]\n",
            " [7 7 7]]\n",
            "\n",
            "Zeros Like Reference Array:\n",
            " [[0 0 0]\n",
            " [0 0 0]]\n",
            "\n",
            "Ones Like Reference Array:\n",
            " [[1 1 1]\n",
            " [1 1 1]]\n",
            "\n",
            "Converted NumPy Array:\n",
            " [1 2 3 4]\n"
          ]
        }
      ]
    },
    {
      "cell_type": "markdown",
      "source": [
        "Problem - 2: Array Manipulation: Numerical Ranges and Array indexing:\n",
        "Complete the following tasks:\n",
        "\n",
        "1. Create an array with values ranging from 10 to 49. {Hint:np.arrange()}.\n",
        "2. Create a 3X3 matrix with values ranging from 0 to 8.\n",
        "{Hint:look for np.reshape()}\n",
        "3. Create a 3X3 identity matrix.{Hint:np.eye()}\n",
        "4. Create a random array of size 30 and find the mean of the array.\n",
        "{Hint:check for np.random.random() and array.mean() function}\n",
        "5. Create a 10X10 array with random values and find the minimum and maximum values.\n",
        "6. Create a zero array of size 10 and replace 5th element with 1.\n",
        "7. Reverse an array arr = [1,2,0,0,4,0].\n",
        "8. Create a 2d array with 1 on border and 0 inside.\n",
        "9. Create a 8X8 matrix and fill it with a checkerboard pattern."
      ],
      "metadata": {
        "id": "goTQa-n7hV-v"
      }
    },
    {
      "cell_type": "code",
      "source": [
        "import numpy as np\n",
        "\n",
        "# 1. Create an array with values ranging from 10 to 49\n",
        "array_range = np.arange(10, 50)\n",
        "print(\"Array with values from 10 to 49:\\n\", array_range)\n",
        "\n",
        "# 2. Create a 3x3 matrix with values ranging from 0 to 8\n",
        "matrix_3x3 = np.arange(9).reshape(3, 3)\n",
        "print(\"\\n3x3 Matrix with values from 0 to 8:\\n\", matrix_3x3)\n",
        "\n",
        "# 3. Create a 3x3 identity matrix\n",
        "identity_matrix = np.eye(3)\n",
        "print(\"\\n3x3 Identity Matrix:\\n\", identity_matrix)\n",
        "\n",
        "# 4. Create a random array of size 30 and find the mean\n",
        "random_array = np.random.random(30)\n",
        "mean_value = random_array.mean()\n",
        "print(\"\\nRandom Array Mean Value:\\n\", mean_value)\n",
        "\n",
        "# 5. Create a 10x10 array with random values and find min & max\n",
        "random_matrix = np.random.random((10, 10))\n",
        "min_value = random_matrix.min()\n",
        "max_value = random_matrix.max()\n",
        "print(\"\\n10x10 Random Matrix Min and Max:\\n\", min_value, max_value)\n",
        "\n",
        "# 6. Create a zero array of size 10 and replace the 5th element with 1\n",
        "zero_array = np.zeros(10)\n",
        "zero_array[4] = 1  # 5th element (index 4) set to 1\n",
        "print(\"\\nZero Array with 5th Element as 1:\\n\", zero_array)\n",
        "\n",
        "# 7. Reverse an array arr = [1,2,0,0,4,0]\n",
        "arr = np.array([1, 2, 0, 0, 4, 0])\n",
        "reversed_arr = arr[::-1]\n",
        "print(\"\\nReversed Array:\\n\", reversed_arr)\n",
        "\n",
        "# 8. Create a 2D array with 1 on the border and 0 inside\n",
        "border_array = np.ones((5, 5))\n",
        "border_array[1:-1, 1:-1] = 0\n",
        "print(\"\\n2D Array with 1 on Border and 0 Inside:\\n\", border_array)\n",
        "\n",
        "# 9. Create an 8x8 matrix and fill it with a checkerboard pattern\n",
        "checkerboard = np.zeros((8, 8), dtype=int)\n",
        "checkerboard[1::2, ::2] = 1  # Fill alternating positions with 1\n",
        "checkerboard[::2, 1::2] = 1\n",
        "print(\"\\n8x8 Checkerboard Pattern:\\n\", checkerboard)\n"
      ],
      "metadata": {
        "colab": {
          "base_uri": "https://localhost:8080/"
        },
        "id": "L83ZAggUha-u",
        "outputId": "d00f6ef4-eed8-4923-e9a5-72415e2a8e83"
      },
      "execution_count": 10,
      "outputs": [
        {
          "output_type": "stream",
          "name": "stdout",
          "text": [
            "Array with values from 10 to 49:\n",
            " [10 11 12 13 14 15 16 17 18 19 20 21 22 23 24 25 26 27 28 29 30 31 32 33\n",
            " 34 35 36 37 38 39 40 41 42 43 44 45 46 47 48 49]\n",
            "\n",
            "3x3 Matrix with values from 0 to 8:\n",
            " [[0 1 2]\n",
            " [3 4 5]\n",
            " [6 7 8]]\n",
            "\n",
            "3x3 Identity Matrix:\n",
            " [[1. 0. 0.]\n",
            " [0. 1. 0.]\n",
            " [0. 0. 1.]]\n",
            "\n",
            "Random Array Mean Value:\n",
            " 0.5318797846156893\n",
            "\n",
            "10x10 Random Matrix Min and Max:\n",
            " 0.003697018945663877 0.9966333865098876\n",
            "\n",
            "Zero Array with 5th Element as 1:\n",
            " [0. 0. 0. 0. 1. 0. 0. 0. 0. 0.]\n",
            "\n",
            "Reversed Array:\n",
            " [0 4 0 0 2 1]\n",
            "\n",
            "2D Array with 1 on Border and 0 Inside:\n",
            " [[1. 1. 1. 1. 1.]\n",
            " [1. 0. 0. 0. 1.]\n",
            " [1. 0. 0. 0. 1.]\n",
            " [1. 0. 0. 0. 1.]\n",
            " [1. 1. 1. 1. 1.]]\n",
            "\n",
            "8x8 Checkerboard Pattern:\n",
            " [[0 1 0 1 0 1 0 1]\n",
            " [1 0 1 0 1 0 1 0]\n",
            " [0 1 0 1 0 1 0 1]\n",
            " [1 0 1 0 1 0 1 0]\n",
            " [0 1 0 1 0 1 0 1]\n",
            " [1 0 1 0 1 0 1 0]\n",
            " [0 1 0 1 0 1 0 1]\n",
            " [1 0 1 0 1 0 1 0]]\n"
          ]
        }
      ]
    },
    {
      "cell_type": "markdown",
      "source": [
        "**Problem - 3: Array Operations:**\n",
        "\n",
        "For the following arrays:\n",
        "x = np.array([[1,2],[3,5]]) and y = np.array([[5,6],[7,8]]);\n",
        "v = np.array([9,10]) and w = np.array([11,12]);\n",
        "\n",
        "Complete all the task using numpy:\n",
        "1. Add the two array.\n",
        "2. Subtract the two array.\n",
        "3. Multiply the array with any integers of your choice.\n",
        "4. Find the square of each element of the array.\n",
        "5. Find the dot product between: v(and)w ; x(and)v ; x(and)y.\n",
        "6. Concatenate x(and)y along row and Concatenate v(and)w along column.\n",
        "\n",
        "{Hint:try np.concatenate() or np.vstack() functions.\n",
        "7. Concatenate x(and)v; if you get an error, observe and explain why did you get the error?"
      ],
      "metadata": {
        "id": "ksj3bh8Hhiou"
      }
    },
    {
      "cell_type": "code",
      "source": [
        "import numpy as np\n",
        "\n",
        "# Given arrays\n",
        "x = np.array([[1, 2], [3, 5]])\n",
        "y = np.array([[5, 6], [7, 8]])\n",
        "v = np.array([9, 10])\n",
        "w = np.array([11, 12])\n",
        "\n",
        "# 1. Add the two arrays\n",
        "add_xy = x + y\n",
        "print(\"Addition of x and y:\\n\", add_xy)\n",
        "\n",
        "# 2. Subtract the two arrays\n",
        "sub_xy = x - y\n",
        "print(\"\\nSubtraction of x and y:\\n\", sub_xy)\n",
        "\n",
        "# 3. Multiply the array with any integer (let's choose 3)\n",
        "mult_x = x * 3\n",
        "print(\"\\nMultiplication of x by 3:\\n\", mult_x)\n",
        "\n",
        "# 4. Find the square of each element of the array\n",
        "square_x = np.square(x)\n",
        "print(\"\\nSquare of each element in x:\\n\", square_x)\n",
        "\n",
        "# 5. Find the dot product:\n",
        "dot_vw = np.dot(v, w)  # Dot product of v and w\n",
        "dot_xv = np.dot(x, v)  # Dot product of x and v\n",
        "dot_xy = np.dot(x, y)  # Dot product of x and y\n",
        "\n",
        "print(\"\\nDot Product of v and w:\", dot_vw)\n",
        "print(\"\\nDot Product of x and v:\\n\", dot_xv)\n",
        "print(\"\\nDot Product of x and y:\\n\", dot_xy)\n",
        "\n",
        "# 6. Concatenate x and y along rows and v and w along columns\n",
        "concat_xy = np.concatenate((x, y), axis=0)  # Row-wise\n",
        "concat_vw = np.vstack((v, w))  # Column-wise\n",
        "\n",
        "print(\"\\nConcatenation of x and y along rows:\\n\", concat_xy)\n",
        "print(\"\\nConcatenation of v and w along columns:\\n\", concat_vw)\n",
        "\n",
        "# 7. Concatenate x and v\n",
        "try:\n",
        "    concat_xv = np.concatenate((x, v), axis=0)  # Attempting to concatenate x and v\n",
        "    print(\"\\nConcatenation of x and v:\\n\", concat_xv)\n",
        "except ValueError as e:\n",
        "    print(\"\\nError in concatenating x and v:\", e)\n"
      ],
      "metadata": {
        "colab": {
          "base_uri": "https://localhost:8080/"
        },
        "id": "oQ1QQbH7hpW2",
        "outputId": "1c8d17ca-314a-4556-9bb5-159ca3a5f7de"
      },
      "execution_count": 11,
      "outputs": [
        {
          "output_type": "stream",
          "name": "stdout",
          "text": [
            "Addition of x and y:\n",
            " [[ 6  8]\n",
            " [10 13]]\n",
            "\n",
            "Subtraction of x and y:\n",
            " [[-4 -4]\n",
            " [-4 -3]]\n",
            "\n",
            "Multiplication of x by 3:\n",
            " [[ 3  6]\n",
            " [ 9 15]]\n",
            "\n",
            "Square of each element in x:\n",
            " [[ 1  4]\n",
            " [ 9 25]]\n",
            "\n",
            "Dot Product of v and w: 219\n",
            "\n",
            "Dot Product of x and v:\n",
            " [29 77]\n",
            "\n",
            "Dot Product of x and y:\n",
            " [[19 22]\n",
            " [50 58]]\n",
            "\n",
            "Concatenation of x and y along rows:\n",
            " [[1 2]\n",
            " [3 5]\n",
            " [5 6]\n",
            " [7 8]]\n",
            "\n",
            "Concatenation of v and w along columns:\n",
            " [[ 9 10]\n",
            " [11 12]]\n",
            "\n",
            "Error in concatenating x and v: all the input arrays must have same number of dimensions, but the array at index 0 has 2 dimension(s) and the array at index 1 has 1 dimension(s)\n"
          ]
        }
      ]
    },
    {
      "cell_type": "markdown",
      "source": [
        "Problem - 4: Matrix Operations:\n",
        "• For the following arrays:\n",
        "A = np.array([[3,4],[7,8]]) and B = np.array([[5,3],[2,1]]);\n",
        "Prove following with Numpy:\n",
        "1. Prove A.A−1 = I.\n",
        "2. Prove AB ̸= BA.\n",
        "3. Prove (AB)\n",
        "\n",
        "T = BTAT\n",
        ".\n",
        "\n",
        "• Solve the following system of Linear equation using Inverse Methods.\n",
        "\n",
        "2x − 3y + z = −1\n",
        "x − y + 2z = −3\n",
        "3x + y − z = 9\n",
        "\n",
        "{Hint: First use Numpy array to represent the equation in Matrix form. Then Solve for: AX = B}\n",
        "\n",
        "• Now: solve the above equation using np.linalg.inv function.{Explore more about ”linalg” func-\n",
        "tion of Numpy}"
      ],
      "metadata": {
        "id": "h6lc2dmGhuKt"
      }
    },
    {
      "cell_type": "code",
      "source": [
        "# 1\n",
        "import numpy as np\n",
        "\n",
        "# Given matrices\n",
        "A = np.array([[3, 4], [7, 8]])\n",
        "\n",
        "# Compute inverse of A\n",
        "A_inv = np.linalg.inv(A)\n",
        "\n",
        "# Compute A * A_inv\n",
        "identity_matrix = np.dot(A, A_inv)\n",
        "\n",
        "print(\"A × A⁻¹:\\n\", identity_matrix)\n",
        "\n",
        "# Check if it is an identity matrix\n",
        "print(\"\\nIs A × A⁻¹ equal to the identity matrix?:\\n\", np.allclose(identity_matrix, np.eye(2)))\n",
        "\n",
        "\n",
        "# 2\n",
        "# Given matrix B\n",
        "B = np.array([[5, 3], [2, 1]])\n",
        "\n",
        "# Compute AB and BA\n",
        "AB = np.dot(A, B)\n",
        "BA = np.dot(B, A)\n",
        "\n",
        "print(\"AB:\\n\", AB)\n",
        "print(\"\\nBA:\\n\", BA)\n",
        "\n",
        "# Check if AB and BA are equal\n",
        "print(\"\\nIs AB equal to BA?:\", np.array_equal(AB, BA))\n",
        "\n",
        "\n",
        "\n",
        "# 3\n",
        "\n",
        "# Compute (AB)^T\n",
        "AB_transpose = np.transpose(AB)\n",
        "\n",
        "# Compute B^T and A^T\n",
        "B_transpose = np.transpose(B)\n",
        "A_transpose = np.transpose(A)\n",
        "\n",
        "# Compute B^T * A^T\n",
        "BT_AT = np.dot(B_transpose, A_transpose)\n",
        "\n",
        "print(\"(AB)^T:\\n\", AB_transpose)\n",
        "print(\"\\nB^T A^T:\\n\", BT_AT)\n",
        "\n",
        "# Check if (AB)^T equals B^T A^T\n",
        "print(\"\\nIs (AB)^T equal to B^T A^T?:\", np.array_equal(AB_transpose, BT_AT))\n",
        "\n",
        "\n",
        "# 4\n",
        "\n",
        "# Define matrix A and B\n",
        "A_eq = np.array([[2, -3, 1], [1, -1, 2], [3, 1, -1]])\n",
        "B_eq = np.array([-1, -3, 9])\n",
        "\n",
        "# Compute inverse of A\n",
        "A_inv_eq = np.linalg.inv(A_eq)\n",
        "\n",
        "# Solve for X\n",
        "X = np.dot(A_inv_eq, B_eq)\n",
        "\n",
        "print(\"Solution (x, y, z):\", X)\n"
      ],
      "metadata": {
        "colab": {
          "base_uri": "https://localhost:8080/"
        },
        "id": "KT2G3io9hxwF",
        "outputId": "66b900e2-3bf9-4116-c898-24d9a73155ff"
      },
      "execution_count": 12,
      "outputs": [
        {
          "output_type": "stream",
          "name": "stdout",
          "text": [
            "A × A⁻¹:\n",
            " [[1.00000000e+00 0.00000000e+00]\n",
            " [1.77635684e-15 1.00000000e+00]]\n",
            "\n",
            "Is A × A⁻¹ equal to the identity matrix?:\n",
            " True\n",
            "AB:\n",
            " [[23 13]\n",
            " [51 29]]\n",
            "\n",
            "BA:\n",
            " [[36 44]\n",
            " [13 16]]\n",
            "\n",
            "Is AB equal to BA?: False\n",
            "(AB)^T:\n",
            " [[23 51]\n",
            " [13 29]]\n",
            "\n",
            "B^T A^T:\n",
            " [[23 51]\n",
            " [13 29]]\n",
            "\n",
            "Is (AB)^T equal to B^T A^T?: True\n",
            "Solution (x, y, z): [ 2.  1. -2.]\n"
          ]
        }
      ]
    }
  ]
}